{
  "nbformat": 4,
  "nbformat_minor": 0,
  "metadata": {
    "colab": {
      "name": "organizing _images_into_directories.ipynb",
      "provenance": [],
      "toc_visible": true,
      "authorship_tag": "ABX9TyPptC/IpWQc7GxEQCREN9vX",
      "include_colab_link": true
    },
    "kernelspec": {
      "name": "python3",
      "display_name": "Python 3"
    }
  },
  "cells": [
    {
      "cell_type": "markdown",
      "metadata": {
        "id": "view-in-github",
        "colab_type": "text"
      },
      "source": [
        "<a href=\"https://colab.research.google.com/github/Cristinamulas/Disposable-Waste-Image-classification-using-Transfer-Learning/blob/main/organizing__images_into_directories.ipynb\" target=\"_parent\"><img src=\"https://colab.research.google.com/assets/colab-badge.svg\" alt=\"Open In Colab\"/></a>"
      ]
    },
    {
      "cell_type": "code",
      "metadata": {
        "id": "IjfNPcYsUqwj"
      },
      "source": [
        "import os\n",
        "import tensorflow as tf\n",
        "import os\n",
        "import matplotlib.pyplot as plt\n",
        "import matplotlib.image as mpimg\n",
        "%matplotlib inline\n",
        "import cv2\n",
        "import numpy as np\n",
        "from urllib.request import urlopen\n",
        "import shutil\n",
        "import random\n"
      ],
      "execution_count": 2,
      "outputs": []
    },
    {
      "cell_type": "code",
      "metadata": {
        "colab": {
          "base_uri": "https://localhost:8080/"
        },
        "id": "2-I9JSDbJe9N",
        "outputId": "6873dc32-8774-4abb-c47b-2b66cb860635"
      },
      "source": [
        "from google.colab import drive\n",
        "drive.mount('/content/drive')\n"
      ],
      "execution_count": 3,
      "outputs": [
        {
          "output_type": "stream",
          "text": [
            "Mounted at /content/drive\n"
          ],
          "name": "stdout"
        }
      ]
    },
    {
      "cell_type": "code",
      "metadata": {
        "colab": {
          "base_uri": "https://localhost:8080/"
        },
        "id": "9tP-Lw8wMn-B",
        "outputId": "3e594690-a726-40d7-a9ee-dfe56b0300c0"
      },
      "source": [
        "%cd \"drive/My Drive/final_project_DL\"\n"
      ],
      "execution_count": 4,
      "outputs": [
        {
          "output_type": "stream",
          "text": [
            "/content/drive/My Drive/final_project_DL\n"
          ],
          "name": "stdout"
        }
      ]
    },
    {
      "cell_type": "code",
      "metadata": {
        "colab": {
          "base_uri": "https://localhost:8080/"
        },
        "id": "4_QPwhKhNDrj",
        "outputId": "e6cbecb1-1667-4655-e998-9856cb99fb72"
      },
      "source": [
        "# !git clone https://github.com/garythung/trashnet"
      ],
      "execution_count": null,
      "outputs": [
        {
          "output_type": "stream",
          "text": [
            "Cloning into 'trashnet'...\n",
            "remote: Enumerating objects: 33, done.\u001b[K\n",
            "remote: Total 33 (delta 0), reused 0 (delta 0), pack-reused 33\u001b[K\n",
            "Unpacking objects: 100% (33/33), done.\n"
          ],
          "name": "stdout"
        }
      ]
    },
    {
      "cell_type": "code",
      "metadata": {
        "colab": {
          "base_uri": "https://localhost:8080/"
        },
        "id": "jIti7GNDS16p",
        "outputId": "2a273245-c61e-4f64-9094-99506b930120"
      },
      "source": [
        "%cd 'dataset-resized.zip (Unzipped Files)/dataset-resized'"
      ],
      "execution_count": 5,
      "outputs": [
        {
          "output_type": "stream",
          "text": [
            "/content/drive/My Drive/final_project_DL/dataset-resized.zip (Unzipped Files)/dataset-resized\n"
          ],
          "name": "stdout"
        }
      ]
    },
    {
      "cell_type": "markdown",
      "metadata": {
        "id": "ms0U5rtveGF5"
      },
      "source": [
        "## Visualizate the images"
      ]
    },
    {
      "cell_type": "code",
      "metadata": {
        "id": "S2vYNwZMTUcy"
      },
      "source": [
        "# # get the directories of each class\n",
        "\n",
        "prepath = os.path.join(os.getcwd())\n",
        "glass_dir = os.path.join(prepath, 'glass')\n",
        "paper_dir = os.path.join(prepath, 'paper')\n",
        "cardboar_dir = os.path.join(prepath, 'cardboard')\n",
        "plastic_dir = os.path.join(prepath, 'plastic')\n",
        "metal_idr = os.path.join(prepath, 'metal')\n",
        "trash_dir = os.path.join(prepath, 'trash')\n"
      ],
      "execution_count": 23,
      "outputs": []
    },
    {
      "cell_type": "code",
      "metadata": {
        "id": "eyOPq5Zk50DO"
      },
      "source": [
        "for image in os.listdir(glass_dir):\n",
        "  img = mpimg.imread(os.path.join(paper_dir+'/'+ image) )\n",
        "  imgplot = plt.imshow(img)\n",
        "  plt.show()"
      ],
      "execution_count": 24,
      "outputs": []
    },
    {
      "cell_type": "markdown",
      "metadata": {
        "id": "xI6x7W9EeMpn"
      },
      "source": [
        "## Split the images into training, test and validation folders"
      ]
    },
    {
      "cell_type": "code",
      "metadata": {
        "id": "hgYSa_ThZ020"
      },
      "source": [
        "def create_dirs(folders):\n",
        "  os.getcwd()\n",
        "  # change dir to data\n",
        "  os.chdir('/content/drive/My Drive/final_project_DL/dataset-resized.zip (Unzipped Files)/dataset-resized/')\n",
        "  root_path = os.getcwd()\n",
        "  for folder in folders: # loop over the list of fules\n",
        "    os.mkdir(os.path.join(root_path,folder))"
      ],
      "execution_count": 27,
      "outputs": []
    },
    {
      "cell_type": "code",
      "metadata": {
        "id": "vDubvzrHbiNU"
      },
      "source": [
        "create_dirs(['train','test', 'val'])"
      ],
      "execution_count": null,
      "outputs": []
    },
    {
      "cell_type": "code",
      "metadata": {
        "colab": {
          "base_uri": "https://localhost:8080/",
          "height": 34
        },
        "id": "iSKH3E4DPBPn",
        "outputId": "285a3c3e-9eea-420a-a2a3-e2c0ddc8276a"
      },
      "source": [
        "path_dir = os.getcwd() # /content/drive/My Drive/final_project_DL/dataset-resized.zip (Unzipped Files)/dataset-resized\n",
        "path_dir"
      ],
      "execution_count": null,
      "outputs": [
        {
          "output_type": "execute_result",
          "data": {
            "application/vnd.google.colaboratory.intrinsic+json": {
              "type": "string"
            },
            "text/plain": [
              "'/content/drive/My Drive/final_project_DL/dataset-resized.zip (Unzipped Files)/dataset-resized'"
            ]
          },
          "metadata": {
            "tags": []
          },
          "execution_count": 13
        }
      ]
    },
    {
      "cell_type": "code",
      "metadata": {
        "id": "JWcP-1nYZ28C"
      },
      "source": [
        "# make train/ test/val folders inside dataset-resized\n",
        "def create_subdir ():\n",
        "  \"return subdirectories for each class\"\n",
        "  for cls in os.listdir():\n",
        "       if cls != 'train' and cls != 'test' and cls != 'val':\n",
        "         os.makedirs(path_dir +'/train' + '/' + cls, exist_ok=True)\n",
        "         os.makedirs(path_dir +'/test' + '/' + cls, exist_ok=True)\n",
        "         os.makedirs(path_dir +'/val' + '/' + cls, exist_ok=True) \n",
        "      \n",
        " \n"
      ],
      "execution_count": null,
      "outputs": []
    },
    {
      "cell_type": "code",
      "metadata": {
        "id": "LjgNYF5lcrFI"
      },
      "source": [
        "create_subdir()"
      ],
      "execution_count": null,
      "outputs": []
    },
    {
      "cell_type": "code",
      "metadata": {
        "colab": {
          "base_uri": "https://localhost:8080/"
        },
        "id": "9N2ay6xznYxn",
        "outputId": "32c6e2c7-e575-41e3-d5b6-d41e35b828b3"
      },
      "source": [
        "val_ratio = 0.10\n",
        "test_ratio = 0.001 # getting one image for testing\n",
        "\n",
        "path_dir    #/content/drive/My Drive/final_project_DL/dataset-resized.zip (Unzipped Files)/dataset-resized\n",
        "list_cls = ['/cardboard',  '/glass' , '/metal',  '/paper',  '/plastic', '/trash']\n",
        "for cls in list_cls:\n",
        "  src = path_dir + cls\n",
        "  allFileNames = os.listdir(src)\n",
        "  np.random.shuffle(allFileNames)\n",
        "  train_FileNames, val_FileNames, test_FileNames = np.split(np.array(allFileNames),\n",
        "                                                          [int(len(allFileNames)* (1 - val_ratio + test_ratio)), \n",
        "                                                               int(len(allFileNames)* (1 - test_ratio))])\n",
        "  train_FileNames = [src+'/'+ name for name in train_FileNames.tolist()]\n",
        "  val_FileNames = [src+'/' + name for name in val_FileNames.tolist()]\n",
        "  test_FileNames = [src+'/' + name for name in test_FileNames.tolist()]\n",
        "\n",
        "  print('Total images: ', len(allFileNames))\n",
        "  print('Training: ', len(train_FileNames))\n",
        "  print('Validation: ', len(val_FileNames))\n",
        "  print('Testing: ', len(test_FileNames))\n",
        "\n",
        "\n",
        "  for name in train_FileNames:\n",
        "      if os.path.isfile(name):\n",
        "          shutil.move(name, path_dir + '/train'+  cls)\n",
        "  for name in test_FileNames:\n",
        "      if os.path.isfile(name):\n",
        "          shutil.move(name, path_dir + '/test'+  cls)\n",
        "  for name in val_FileNames:\n",
        "      if os.path.isfile(name):\n",
        "        shutil.move(name, path_dir +'/val' +   cls)\n",
        "\n"
      ],
      "execution_count": null,
      "outputs": [
        {
          "output_type": "stream",
          "text": [
            "Total images:  403\n",
            "Training:  363\n",
            "Validation:  39\n",
            "Testing:  1\n",
            "Total images:  501\n",
            "Training:  451\n",
            "Validation:  49\n",
            "Testing:  1\n",
            "Total images:  410\n",
            "Training:  369\n",
            "Validation:  40\n",
            "Testing:  1\n",
            "Total images:  594\n",
            "Training:  535\n",
            "Validation:  58\n",
            "Testing:  1\n",
            "Total images:  482\n",
            "Training:  434\n",
            "Validation:  47\n",
            "Testing:  1\n",
            "Total images:  137\n",
            "Training:  123\n",
            "Validation:  13\n",
            "Testing:  1\n"
          ],
          "name": "stdout"
        }
      ]
    },
    {
      "cell_type": "code",
      "metadata": {
        "colab": {
          "base_uri": "https://localhost:8080/"
        },
        "id": "ER7O4hjBwX3R",
        "outputId": "250d154c-eb53-46b7-b525-69081b6b321b"
      },
      "source": [
        "%cd /content/drive/MyDrive/final_project_DL/dataset-resized.zip (Unzipped Files)/dataset-resized/plastic"
      ],
      "execution_count": null,
      "outputs": [
        {
          "output_type": "stream",
          "text": [
            "/content/drive/MyDrive/final_project_DL/dataset-resized.zip (Unzipped Files)/dataset-resized/plastic\n"
          ],
          "name": "stdout"
        }
      ]
    },
    {
      "cell_type": "code",
      "metadata": {
        "id": "374D-rm8yT2X"
      },
      "source": [
        ""
      ],
      "execution_count": null,
      "outputs": []
    },
    {
      "cell_type": "code",
      "metadata": {
        "id": "-oy5WWOH5uwf"
      },
      "source": [
        ""
      ],
      "execution_count": null,
      "outputs": []
    }
  ]
}